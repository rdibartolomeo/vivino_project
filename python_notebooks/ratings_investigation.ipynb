{
 "cells": [
  {
   "cell_type": "code",
   "execution_count": 1,
   "metadata": {},
   "outputs": [],
   "source": [
    "import pandas as pd\n",
    "import numpy as np\n",
    "import math\n",
    "import matplotlib.pyplot as plt\n",
    "import seaborn as sns\n",
    "%matplotlib inline"
   ]
  },
  {
   "cell_type": "code",
   "execution_count": 3,
   "metadata": {},
   "outputs": [],
   "source": [
    "# load cleaned vivino wine data into dataframe\n",
    "wine_data = pd.read_csv('./wine_data_cleaned.csv')"
   ]
  },
  {
   "cell_type": "markdown",
   "metadata": {},
   "source": [
    "## Data Exploration\n",
    "\n",
    "Description\n",
    "\n",
    "### Comparing the Distributions of Ratings by Wine-Type\n",
    "Description"
   ]
  },
  {
   "cell_type": "code",
   "execution_count": null,
   "metadata": {},
   "outputs": [],
   "source": [
    "sns.set_palette(\"rocket\")\n",
    "sns.set_style(\"darkgrid\")\n",
    "\n",
    "wine_types = wine_data.groupby(by='wine_type').mean().sort_values('ratings_average',ascending=False)['ratings_average']\n",
    "num_wine_types = len(wine_types)\n",
    "num_rows = math.ceil(num_wine_types/3)\n",
    "\n",
    "fig, axes = plt.subplots(num_rows, 3,figsize=(16, 2*num_rows), sharex=True, sharey=True)\n",
    "fig.tight_layout(h_pad=4)\n",
    "\n",
    "for n in range(num_wine_types):\n",
    "    \n",
    "    row = int(n/3)\n",
    "    col = n%3\n",
    "    \n",
    "    wine_type = wine_types.index[n]\n",
    "    \n",
    "\n",
    "    sns.kdeplot(wine_data.loc[(wine_data['wine_type'] == wine_type),'ratings_average']*5, \n",
    "                shade=True, legend=False, ax=axes[row,col])\n",
    "    \n",
    "    axes[row,col].axvline(wine_types[n]*5, 0, ls='dotted')\n",
    "    \n",
    "    fontdict = {\n",
    "        'fontsize': 14,\n",
    "        'fontweight' : 'normal'\n",
    "    }\n",
    "\n",
    "    axes[row,col].set_title(wine_type, fontdict=fontdict, loc='left')\n",
    "    axes[row,col].set_xlabel('Rating')\n",
    "    axes[row,col].set_ylabel('Density')\n",
    "    axes[row,col].set_xlim(0,5)\n",
    "    axes[row,col].axes.xaxis.set_visible(True)"
   ]
  }
 ],
 "metadata": {
  "kernelspec": {
   "display_name": "Python 3",
   "language": "python",
   "name": "python3"
  },
  "language_info": {
   "codemirror_mode": {
    "name": "ipython",
    "version": 3
   },
   "file_extension": ".py",
   "mimetype": "text/x-python",
   "name": "python",
   "nbconvert_exporter": "python",
   "pygments_lexer": "ipython3",
   "version": "3.7.3"
  }
 },
 "nbformat": 4,
 "nbformat_minor": 2
}
